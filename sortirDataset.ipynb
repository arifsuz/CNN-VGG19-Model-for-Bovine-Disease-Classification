{
 "cells": [
  {
   "cell_type": "code",
   "execution_count": 2,
   "metadata": {},
   "outputs": [
    {
     "name": "stdout",
     "output_type": "stream",
     "text": [
      "✅ Dataset selesai diproses dan disimpan di: dataset\n"
     ]
    }
   ],
   "source": [
    "import os\n",
    "import zipfile\n",
    "import shutil\n",
    "from pathlib import Path\n",
    "from sklearn.model_selection import train_test_split\n",
    "\n",
    "# ========== [1] Ekstrak file ZIP ==========\n",
    "zip_path = \"dataset.zip\"\n",
    "extract_path = \"dataset_mentah\"\n",
    "\n",
    "with zipfile.ZipFile(zip_path, 'r') as zip_ref:\n",
    "    zip_ref.extractall(extract_path)\n",
    "\n",
    "# ========== [2] Mapping Label ==========\n",
    "source_mapping = {\n",
    "    \"KUKU/SAKIT\": \"sapi_sakit_pmk_kuku\",\n",
    "    \"KUKU/SEHAT\": \"sapi_sehat\",\n",
    "    \"MULUT/SAKIT\": \"sapi_sakit_pmk_mata\",\n",
    "    \"MULUT/SEHAT\": \"sapi_sehat\"\n",
    "}\n",
    "\n",
    "# ========== [3] Membuat Struktur Folder Tujuan ==========\n",
    "base_target_dir = \"dataset\"\n",
    "splits = ['train', 'val', 'test']\n",
    "labels = list(set(source_mapping.values()))\n",
    "\n",
    "for split in splits:\n",
    "    for label in labels:\n",
    "        os.makedirs(os.path.join(base_target_dir, split, label), exist_ok=True)\n",
    "\n",
    "# ========== [4] Fungsi Split & Copy ==========\n",
    "def split_and_copy(images, label_name, train_ratio=0.7, val_ratio=0.2, test_ratio=0.1):\n",
    "    train_files, temp_files = train_test_split(images, train_size=train_ratio, random_state=42)\n",
    "    val_files, test_files = train_test_split(temp_files, test_size=test_ratio/(val_ratio + test_ratio), random_state=42)\n",
    "\n",
    "    for split, files in zip(['train', 'val', 'test'], [train_files, val_files, test_files]):\n",
    "        for img_path in files:\n",
    "            fname = os.path.basename(img_path)\n",
    "            dst_path = os.path.join(base_target_dir, split, label_name, fname)\n",
    "            shutil.copy2(img_path, dst_path)\n",
    "\n",
    "# ========== [5] Proses Semua Gambar ==========\n",
    "for src_rel_path, label in source_mapping.items():\n",
    "    full_path = os.path.join(extract_path, src_rel_path)\n",
    "    image_paths = [os.path.join(full_path, fname) for fname in os.listdir(full_path)\n",
    "                   if fname.lower().endswith(('.jpg', '.jpeg', '.png'))]\n",
    "    split_and_copy(image_paths, label)\n",
    "\n",
    "print(\"✅ Dataset selesai diproses dan disimpan di:\", base_target_dir)"
   ]
  }
 ],
 "metadata": {
  "kernelspec": {
   "display_name": "Python 3",
   "language": "python",
   "name": "python3"
  },
  "language_info": {
   "codemirror_mode": {
    "name": "ipython",
    "version": 3
   },
   "file_extension": ".py",
   "mimetype": "text/x-python",
   "name": "python",
   "nbconvert_exporter": "python",
   "pygments_lexer": "ipython3",
   "version": "3.12.2"
  }
 },
 "nbformat": 4,
 "nbformat_minor": 2
}
